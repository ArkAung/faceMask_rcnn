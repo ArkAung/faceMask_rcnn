{
 "cells": [
  {
   "cell_type": "markdown",
   "id": "2fdd59ca-21e5-495c-817f-1d98cdc34925",
   "metadata": {},
   "source": [
    "# Serving a simple webserver using flask-ngrok"
   ]
  },
  {
   "cell_type": "markdown",
   "id": "8f7fea0a-262d-4c95-9b58-1469520ba1b4",
   "metadata": {},
   "source": [
    "Install necessary dependencies"
   ]
  },
  {
   "cell_type": "markdown",
   "id": "ddd0668c-2c96-402a-b48b-3cec2efe55de",
   "metadata": {},
   "source": [
    "We are using ngrok to serve our webserver and tunneling to ngrok for public access. In order to do so, we have to have ngrok auth token. You have to get your own ngrok auth token."
   ]
  },
  {
   "cell_type": "code",
   "execution_count": null,
   "id": "266f8925-4e76-4448-98dc-e131e45d18ac",
   "metadata": {},
   "outputs": [],
   "source": [
    "%%sh\n",
    "sudo apt-get install git-lfs\n",
    "\n",
    "wget https://bin.equinox.io/c/4VmDzA7iaHb/ngrok-stable-linux-amd64.tgz\n",
    "tar -xvf ngrok-stable-linux-amd64.tgz\n",
    "./ngrok authtoken <AUTH_TOKEN>"
   ]
  },
  {
   "cell_type": "markdown",
   "id": "cbcbf594-e8cd-4e04-b6c0-4aaa03c897c3",
   "metadata": {},
   "source": [
    "Pull resources from github along with weights (which has to be pulled with Git Large File Storage)"
   ]
  },
  {
   "cell_type": "code",
   "execution_count": null,
   "id": "30328887-4558-45a6-91b3-f49557ed8e40",
   "metadata": {},
   "outputs": [],
   "source": [
    "%%sh\n",
    "git clone https://github.com/ArkAung/faceMask_rcnn.git\n",
    "cd faceMask_rcnn\n",
    "git lfs pull"
   ]
  },
  {
   "cell_type": "code",
   "execution_count": null,
   "id": "41873170-bd23-4939-9970-552276a0af3f",
   "metadata": {},
   "outputs": [],
   "source": [
    "!mv faceMask_rcnn/* ."
   ]
  },
  {
   "cell_type": "markdown",
   "id": "c486292a-99c6-45c7-9aef-2acbcd962f13",
   "metadata": {},
   "source": [
    "Install python libraries"
   ]
  },
  {
   "cell_type": "code",
   "execution_count": null,
   "id": "da3021ea-e8cf-4e07-b426-cbc7e02c273b",
   "metadata": {},
   "outputs": [],
   "source": [
    "%%sh\n",
    "\n",
    "pip install -q flask-ngrok\n",
    "pip install -q flask==0.12.2\n",
    "pip install -r requirements.txt"
   ]
  },
  {
   "cell_type": "markdown",
   "id": "9a7d87ba-fde7-4163-9bdb-d1a87050a017",
   "metadata": {},
   "source": [
    "Start webserver with ngrok"
   ]
  },
  {
   "cell_type": "code",
   "execution_count": null,
   "id": "cd1d8fbb-4f75-459b-8269-c476011076b6",
   "metadata": {},
   "outputs": [],
   "source": [
    "!python webserver.py --weight \"weights/mask_rcnn_facemask_0030.h5\" --device gpu --ngrok"
   ]
  }
 ],
 "metadata": {
  "kernelspec": {
   "display_name": "Python 3 (ipykernel)",
   "language": "python",
   "name": "python3"
  },
  "language_info": {
   "codemirror_mode": {
    "name": "ipython",
    "version": 3
   },
   "file_extension": ".py",
   "mimetype": "text/x-python",
   "name": "python",
   "nbconvert_exporter": "python",
   "pygments_lexer": "ipython3",
   "version": "3.7.11"
  }
 },
 "nbformat": 4,
 "nbformat_minor": 5
}

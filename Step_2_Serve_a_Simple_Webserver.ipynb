{
 "cells": [
  {
   "cell_type": "markdown",
   "id": "2fdd59ca-21e5-495c-817f-1d98cdc34925",
   "metadata": {},
   "source": [
    "# Serving a simple webserver using flask-ngrok"
   ]
  },
  {
   "cell_type": "markdown",
   "id": "8f7fea0a-262d-4c95-9b58-1469520ba1b4",
   "metadata": {},
   "source": [
    "Install necessary libraries for Flask server"
   ]
  },
  {
   "cell_type": "code",
   "execution_count": null,
   "id": "266f8925-4e76-4448-98dc-e131e45d18ac",
   "metadata": {},
   "outputs": [],
   "source": [
    "%%sh\n",
    "\n",
    "pip install -q flask-ngrok\n",
    "pip install -q flask==0.12.2"
   ]
  },
  {
   "cell_type": "code",
   "execution_count": null,
   "id": "30328887-4558-45a6-91b3-f49557ed8e40",
   "metadata": {},
   "outputs": [],
   "source": [
    "%%sh\n",
    "git clone https://github.com/ArkAung/faceMask_rcnn.git\n",
    "mv faceMask_rcnn/* ."
   ]
  },
  {
   "cell_type": "code",
   "execution_count": null,
   "id": "da3021ea-e8cf-4e07-b426-cbc7e02c273b",
   "metadata": {},
   "outputs": [],
   "source": [
    "!mkdir weights"
   ]
  },
  {
   "cell_type": "markdown",
   "id": "1e3545f1-2b69-4e29-84e5-9af600754126",
   "metadata": {},
   "source": [
    "Download [pretrained weights](https://drive.google.com/file/d/1qjAJwsS6Rx2niTIVbak24oKlLitPWZU-/view?usp=sharing) and place them in weights/\n"
   ]
  },
  {
   "cell_type": "code",
   "execution_count": null,
   "id": "cd1d8fbb-4f75-459b-8269-c476011076b6",
   "metadata": {},
   "outputs": [],
   "source": [
    "!python webserver.py --weight \"weights/mask_rcnn_facemask_0030.h5\" --device gpu --ngrok"
   ]
  }
 ],
 "metadata": {
  "kernelspec": {
   "display_name": "Python 3 (ipykernel)",
   "language": "python",
   "name": "python3"
  },
  "language_info": {
   "codemirror_mode": {
    "name": "ipython",
    "version": 3
   },
   "file_extension": ".py",
   "mimetype": "text/x-python",
   "name": "python",
   "nbconvert_exporter": "python",
   "pygments_lexer": "ipython3",
   "version": "3.7.11"
  }
 },
 "nbformat": 4,
 "nbformat_minor": 5
}
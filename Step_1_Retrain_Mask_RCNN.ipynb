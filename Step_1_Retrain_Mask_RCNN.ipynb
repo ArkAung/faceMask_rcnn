{
 "cells": [
  {
   "cell_type": "markdown",
   "metadata": {
    "colab_type": "text",
    "id": "KCa5gvevY9V0"
   },
   "source": [
    "Upload this notebook to CoLab and run the cells. "
   ]
  },
  {
   "cell_type": "markdown",
   "metadata": {
    "colab_type": "text",
    "id": "jUKCE6pbMZpJ"
   },
   "source": [
    "### Prepare"
   ]
  },
  {
   "cell_type": "markdown",
   "metadata": {
    "colab_type": "text",
    "id": "hTdudk-uCgdL"
   },
   "source": [
    "* Download code, dataset and test zip file from public [google drive link](https://drive.google.com/file/d/1HdQBnxkeeHSGITX3m2Qa12cZr5iIo1Ud/view?usp=sharing) (since github repo is private)\n",
    "* Download [weights file here](https://drive.google.com/file/d/1qjAJwsS6Rx2niTIVbak24oKlLitPWZU-/view?usp=sharing)\n",
    "* Upload all the downloaded files back to the colab notebook. "
   ]
  },
  {
   "cell_type": "markdown",
   "metadata": {
    "colab_type": "text",
    "id": "C-eDLY2V_l_y"
   },
   "source": [
    "Run the following cell to unzip the files, move them and install the required python libraries."
   ]
  },
  {
   "cell_type": "code",
   "execution_count": null,
   "metadata": {
    "colab": {
     "base_uri": "https://localhost:8080/",
     "height": 1000
    },
    "colab_type": "code",
    "id": "0YbwOribEp40",
    "outputId": "6da1ed4a-f21b-42d6-8396-84167c062618"
   },
   "outputs": [],
   "source": [
    "%%sh\n",
    "\n",
    "sudo apt-get install unzip\n",
    "unzip -q code_dataset_test.zip\n",
    "mv code_dataset_test/* .\n",
    "rm code_dataset_test.zip\n",
    "pip install -r requirements.txt"
   ]
  },
  {
   "cell_type": "code",
   "execution_count": 1,
   "metadata": {
    "colab": {
     "base_uri": "https://localhost:8080/",
     "height": 34
    },
    "colab_type": "code",
    "id": "IS3_PgyDZMwt",
    "outputId": "626f0c56-8077-4e3b-a840-614623cd943b"
   },
   "outputs": [
    {
     "name": "stdout",
     "output_type": "stream",
     "text": [
      "TensorFlow 1.x selected.\n"
     ]
    }
   ],
   "source": [
    "%tensorflow_version 1.x"
   ]
  },
  {
   "cell_type": "markdown",
   "metadata": {
    "colab_type": "text",
    "id": "-rEfGu1bMch9"
   },
   "source": [
    "## Using Resnet-101 backbone pretrained on COCO, train only the newly added heads "
   ]
  },
  {
   "cell_type": "code",
   "execution_count": null,
   "metadata": {
    "colab": {},
    "colab_type": "code",
    "id": "XHFuOtopGtvY"
   },
   "outputs": [],
   "source": [
    "!python train.py --dataset dataset/ --weights \"coco\" --training_type \"heads\" --epochs 29"
   ]
  },
  {
   "cell_type": "markdown",
   "metadata": {
    "colab_type": "text",
    "id": "f7PEdh1YMnfX"
   },
   "source": [
    "## Fine tune the network"
   ]
  },
  {
   "cell_type": "code",
   "execution_count": null,
   "metadata": {
    "colab": {},
    "colab_type": "code",
    "id": "5rjgjcOnMpNn"
   },
   "outputs": [],
   "source": [
    "!python train.py --dataset dataset/ --weights \"last\" --training_type \"all\" --learning_rate 1e-6 --epochs 30"
   ]
  },
  {
   "cell_type": "markdown",
   "metadata": {
    "colab_type": "text",
    "id": "9uQkXcwzRSCG"
   },
   "source": [
    "## Evaulation"
   ]
  },
  {
   "cell_type": "markdown",
   "metadata": {
    "colab_type": "text",
    "id": "LMvUQZpu-M-c"
   },
   "source": [
    "Here you can use the weights which is trained above. `mask_rcnn_facemask_0030.h5` is the weight file downloaded from Google Drive and uploaded back to CoLab."
   ]
  },
  {
   "cell_type": "code",
   "execution_count": null,
   "metadata": {
    "colab": {
     "base_uri": "https://localhost:8080/",
     "height": 1000
    },
    "colab_type": "code",
    "id": "CBAYq6g05FTF",
    "outputId": "b87d5e0a-092b-415a-c0df-fee2e0d7b82d"
   },
   "outputs": [],
   "source": [
    "!python eval.py --dataset dataset/ --weights \"weights/mask_rcnn_facemask_0030.h5\" --device \"gpu\""
   ]
  },
  {
   "cell_type": "markdown",
   "metadata": {
    "colab_type": "text",
    "id": "RQLGjBe8NMoj"
   },
   "source": [
    "## Visualizing masks in unseen images"
   ]
  },
  {
   "cell_type": "code",
   "execution_count": 4,
   "metadata": {
    "colab": {},
    "colab_type": "code",
    "id": "uAKMtuW-RFlJ"
   },
   "outputs": [],
   "source": [
    "weights_path = 'weights/mask_rcnn_facemask_0030.h5'\n",
    "test_image_dir = 'test'"
   ]
  },
  {
   "cell_type": "code",
   "execution_count": null,
   "metadata": {
    "colab": {
     "base_uri": "https://localhost:8080/",
     "height": 402
    },
    "colab_type": "code",
    "id": "t5M-iipeQFiO",
    "outputId": "4b5f30df-5f6e-469a-d946-7cce48578f9a"
   },
   "outputs": [],
   "source": [
    "from mrcnn.model import MaskRCNN\n",
    "from facemask import FaceMaskConfig\n",
    "\n",
    "class InferenceConfig(FaceMaskConfig):\n",
    "    GPU_COUNT = 1\n",
    "    IMAGES_PER_GPU = 1\n",
    "\n",
    "cfg = InferenceConfig()\n",
    "\n",
    "mdl = MaskRCNN(mode=\"inference\", model_dir='logs',\n",
    "               config=cfg)\n",
    "mdl.load_weights(weights_path, by_name=True)"
   ]
  },
  {
   "cell_type": "code",
   "execution_count": null,
   "metadata": {
    "colab": {
     "base_uri": "https://localhost:8080/",
     "height": 1000
    },
    "colab_type": "code",
    "id": "73ziivOhNL2X",
    "outputId": "023b0100-6d0e-4777-8238-1031f8b9aab9"
   },
   "outputs": [],
   "source": [
    "from infer import visualize_masks\n",
    "\n",
    "visualize_masks(test_image_dir, mdl)"
   ]
  }
 ],
 "metadata": {
  "accelerator": "GPU",
  "colab": {
   "collapsed_sections": [],
   "name": "Task 1 - Retrain Mask RCNN.ipynb",
   "provenance": []
  },
  "kernelspec": {
   "display_name": "Python 3 (ipykernel)",
   "language": "python",
   "name": "python3"
  },
  "language_info": {
   "codemirror_mode": {
    "name": "ipython",
    "version": 3
   },
   "file_extension": ".py",
   "mimetype": "text/x-python",
   "name": "python",
   "nbconvert_exporter": "python",
   "pygments_lexer": "ipython3",
   "version": "3.7.11"
  }
 },
 "nbformat": 4,
 "nbformat_minor": 4
}
